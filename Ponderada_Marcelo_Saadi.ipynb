{
  "nbformat": 4,
  "nbformat_minor": 0,
  "metadata": {
    "colab": {
      "provenance": []
    },
    "kernelspec": {
      "name": "python3",
      "display_name": "Python 3"
    },
    "language_info": {
      "name": "python"
    }
  },
  "cells": [
    {
      "cell_type": "markdown",
      "source": [
        "# Imports de bibliotecas"
      ],
      "metadata": {
        "id": "VlM7LuMHWW5Q"
      }
    },
    {
      "cell_type": "code",
      "source": [
        "import kagglehub\n",
        "import pandas as pd\n",
        "import numpy as np\n",
        "import os\n",
        "\n",
        "from sklearn.model_selection import train_test_split\n",
        "from sklearn.preprocessing import LabelEncoder, StandardScaler\n",
        "from sklearn.metrics import accuracy_score, f1_score\n",
        "\n",
        "import tensorflow as tf\n",
        "from tensorflow.keras.models import Sequential\n",
        "from tensorflow.keras.layers import Dense\n",
        "from tensorflow.keras.optimizers import Adam\n",
        "from tensorflow.keras import backend as K"
      ],
      "metadata": {
        "id": "SwCB1NJrUlVP"
      },
      "execution_count": 1,
      "outputs": []
    },
    {
      "cell_type": "markdown",
      "source": [
        "# Dataset binario do Kaggle"
      ],
      "metadata": {
        "id": "ESymsUiZWcyG"
      }
    },
    {
      "cell_type": "code",
      "source": [
        "path = kagglehub.dataset_download(\"rohitudageri/credit-card-details\")\n",
        "\n",
        "# Features e labels\n",
        "df_features = pd.read_csv(os.path.join(path, \"Credit_card.csv\"))\n",
        "df_labels   = pd.read_csv(os.path.join(path, \"Credit_card_label.csv\"))\n",
        "\n",
        "# Juntar pelo Ind_ID\n",
        "df = df_features.merge(df_labels, on=\"Ind_ID\", how=\"inner\")\n",
        "\n",
        "print(\"Formato do dataset:\", df.shape)\n",
        "print(\"Colunas:\", df.columns.tolist())\n",
        "print(\"Distribuição da label:\\n\", df[\"label\"].value_counts(normalize=True))"
      ],
      "metadata": {
        "colab": {
          "base_uri": "https://localhost:8080/"
        },
        "id": "CoMQr_-lVvmO",
        "outputId": "41b8a2c1-c2a0-4e5e-c655-55af5e4d2a79"
      },
      "execution_count": 2,
      "outputs": [
        {
          "output_type": "stream",
          "name": "stdout",
          "text": [
            "Formato do dataset: (1548, 19)\n",
            "Colunas: ['Ind_ID', 'GENDER', 'Car_Owner', 'Propert_Owner', 'CHILDREN', 'Annual_income', 'Type_Income', 'EDUCATION', 'Marital_status', 'Housing_type', 'Birthday_count', 'Employed_days', 'Mobile_phone', 'Work_Phone', 'Phone', 'EMAIL_ID', 'Type_Occupation', 'Family_Members', 'label']\n",
            "Distribuição da label:\n",
            " label\n",
            "0    0.886951\n",
            "1    0.113049\n",
            "Name: proportion, dtype: float64\n"
          ]
        }
      ]
    },
    {
      "cell_type": "markdown",
      "source": [
        "# Pre processamento de dados"
      ],
      "metadata": {
        "id": "29RjwZlZWj5l"
      }
    },
    {
      "cell_type": "code",
      "source": [
        "X = df.drop(columns=[\"Ind_ID\", \"label\"])\n",
        "y = df[\"label\"].values\n",
        "\n",
        "# Codificar variáveis categóricas\n",
        "for col in X.select_dtypes(include=\"object\").columns:\n",
        "    le = LabelEncoder()\n",
        "    X[col] = le.fit_transform(X[col].astype(str))\n",
        "\n",
        "# Normalizar variáveis numéricas\n",
        "scaler = StandardScaler()\n",
        "X = scaler.fit_transform(X)\n",
        "\n",
        "# Split treino/teste\n",
        "X_train, X_test, y_train, y_test = train_test_split(\n",
        "    X, y, test_size=0.2, random_state=42, stratify=y\n",
        ")"
      ],
      "metadata": {
        "id": "TitOWRGWWlnF"
      },
      "execution_count": 3,
      "outputs": []
    },
    {
      "cell_type": "markdown",
      "source": [
        "# Definindo Metricas"
      ],
      "metadata": {
        "id": "AESOf0DcWoct"
      }
    },
    {
      "cell_type": "code",
      "source": [
        "def f1_metric(y_true, y_pred):\n",
        "    y_true = K.cast(y_true, \"float32\")\n",
        "    y_pred_bin = K.round(y_pred)\n",
        "\n",
        "    tp = K.sum(K.cast(y_true * y_pred_bin, \"float32\"))\n",
        "    fp = K.sum(K.cast((1 - y_true) * y_pred_bin, \"float32\"))\n",
        "    fn = K.sum(K.cast(y_true * (1 - y_pred_bin), \"float32\"))\n",
        "\n",
        "    precision = tp / (tp + fp + K.epsilon())\n",
        "    recall = tp / (tp + fn + K.epsilon())\n",
        "    f1 = 2 * (precision * recall) / (precision + recall + K.epsilon())\n",
        "    return f1\n"
      ],
      "metadata": {
        "id": "z-XQWN0TWr0V"
      },
      "execution_count": 4,
      "outputs": []
    },
    {
      "cell_type": "markdown",
      "source": [
        "# Construcao do modelo"
      ],
      "metadata": {
        "id": "NhfBMxflWt5J"
      }
    },
    {
      "cell_type": "code",
      "source": [
        "model = Sequential()\n",
        "model.add(Dense(1, activation=\"sigmoid\", input_shape=(X_train.shape[1],)))\n",
        "\n",
        "model.compile(\n",
        "    optimizer=Adam(),\n",
        "    loss=\"binary_crossentropy\",\n",
        "    metrics=[\"accuracy\", f1_metric]\n",
        ")"
      ],
      "metadata": {
        "colab": {
          "base_uri": "https://localhost:8080/"
        },
        "id": "HSAwbeMlWwLl",
        "outputId": "1e424b67-619e-433a-ce64-a392737d5880"
      },
      "execution_count": 5,
      "outputs": [
        {
          "output_type": "stream",
          "name": "stderr",
          "text": [
            "/usr/local/lib/python3.11/dist-packages/keras/src/layers/core/dense.py:93: UserWarning: Do not pass an `input_shape`/`input_dim` argument to a layer. When using Sequential models, prefer using an `Input(shape)` object as the first layer in the model instead.\n",
            "  super().__init__(activity_regularizer=activity_regularizer, **kwargs)\n"
          ]
        }
      ]
    },
    {
      "cell_type": "markdown",
      "source": [
        "# Treinamento"
      ],
      "metadata": {
        "id": "ojrXBu6fW0GN"
      }
    },
    {
      "cell_type": "code",
      "source": [
        "history = model.fit(\n",
        "    X_train, y_train,\n",
        "    epochs=50,\n",
        "    batch_size=10,\n",
        "    validation_split=0.2,\n",
        "    class_weight={0:1, 1:10},\n",
        "    verbose=0\n",
        ")"
      ],
      "metadata": {
        "id": "T89Hq2CFW1HI"
      },
      "execution_count": 6,
      "outputs": []
    },
    {
      "cell_type": "markdown",
      "source": [
        "# Teste do Modelo"
      ],
      "metadata": {
        "id": "VKbHLYEUW22Y"
      }
    },
    {
      "cell_type": "code",
      "source": [
        "y_pred_prob = model.predict(X_test)\n",
        "y_pred = (y_pred_prob > 0.5).astype(int)\n",
        "\n",
        "acc = accuracy_score(y_test, y_pred)\n",
        "f1 = f1_score(y_test, y_pred)\n",
        "\n",
        "print(\"Acurácia no teste:\", acc)\n",
        "print(\"F1 no teste:\", f1)"
      ],
      "metadata": {
        "colab": {
          "base_uri": "https://localhost:8080/"
        },
        "id": "7rCPsuZtW5rf",
        "outputId": "599a6ac8-4d40-4f7d-f43a-633f2d5c6d30"
      },
      "execution_count": 7,
      "outputs": [
        {
          "output_type": "stream",
          "name": "stdout",
          "text": [
            "\u001b[1m10/10\u001b[0m \u001b[32m━━━━━━━━━━━━━━━━━━━━\u001b[0m\u001b[37m\u001b[0m \u001b[1m0s\u001b[0m 5ms/step \n",
            "Acurácia no teste: 0.8870967741935484\n",
            "F1 no teste: 0.0\n"
          ]
        }
      ]
    },
    {
      "cell_type": "markdown",
      "source": [
        "#Conclusoes"
      ],
      "metadata": {
        "id": "J_tkFW0aXbU0"
      }
    },
    {
      "cell_type": "markdown",
      "source": [
        "Como o F1 deu zero, isso significa que o modelo nao conseguiu prever a minoria dos labels - isso acontece pq o modelo esta desbalanceado, para resolver isso teriamos que rebalancear o dataset.\n",
        "\n",
        "Eu adicionei o parametro class weight do keras para ele dar mais valor para a classe minoritaria - mas mesmo assim nao teve resultado - aqui o necessario seria rebalancear o dataset."
      ],
      "metadata": {
        "id": "Ikek7k-gXdB9"
      }
    },
    {
      "cell_type": "code",
      "source": [],
      "metadata": {
        "id": "Tbl-FR26XcQq"
      },
      "execution_count": 7,
      "outputs": []
    }
  ]
}